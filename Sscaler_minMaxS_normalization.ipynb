{
 "cells": [
  {
   "cell_type": "code",
   "execution_count": 9,
   "id": "8596a892-7f9c-4ca0-93f2-cd182cf7b764",
   "metadata": {},
   "outputs": [],
   "source": [
    "import pandas as pd\n",
    "import numpy as np\n",
    "from sklearn.preprocessing import StandardScaler,MinMaxScaler"
   ]
  },
  {
   "cell_type": "code",
   "execution_count": 10,
   "id": "a746b1bf-4641-4033-8d05-fc176c25e9fd",
   "metadata": {},
   "outputs": [
    {
     "data": {
      "text/html": [
       "<div>\n",
       "<style scoped>\n",
       "    .dataframe tbody tr th:only-of-type {\n",
       "        vertical-align: middle;\n",
       "    }\n",
       "\n",
       "    .dataframe tbody tr th {\n",
       "        vertical-align: top;\n",
       "    }\n",
       "\n",
       "    .dataframe thead th {\n",
       "        text-align: right;\n",
       "    }\n",
       "</style>\n",
       "<table border=\"1\" class=\"dataframe\">\n",
       "  <thead>\n",
       "    <tr style=\"text-align: right;\">\n",
       "      <th></th>\n",
       "      <th>Model Name</th>\n",
       "      <th>Engine Type</th>\n",
       "      <th>HP or lbs thr ea engine</th>\n",
       "      <th>Max speed Knots</th>\n",
       "      <th>Rcmnd cruise Knots</th>\n",
       "      <th>Stall Knots dirty</th>\n",
       "      <th>Fuel gal/lbs</th>\n",
       "      <th>All eng rate of climb</th>\n",
       "      <th>Eng out rate of climb</th>\n",
       "      <th>Takeoff over 50ft</th>\n",
       "      <th>Landing over 50ft</th>\n",
       "      <th>Empty weight lbs</th>\n",
       "      <th>Length ft/in</th>\n",
       "      <th>Wing span ft/in</th>\n",
       "      <th>Range N.M.</th>\n",
       "      <th>Price</th>\n",
       "    </tr>\n",
       "  </thead>\n",
       "  <tbody>\n",
       "    <tr>\n",
       "      <th>0</th>\n",
       "      <td>100 Darter (S.L. Industries)</td>\n",
       "      <td>Piston</td>\n",
       "      <td>145</td>\n",
       "      <td>104</td>\n",
       "      <td>91.0</td>\n",
       "      <td>46.0</td>\n",
       "      <td>36</td>\n",
       "      <td>450</td>\n",
       "      <td>900.0</td>\n",
       "      <td>1300.0</td>\n",
       "      <td>2,050</td>\n",
       "      <td>1,180</td>\n",
       "      <td>25/3</td>\n",
       "      <td>37/5</td>\n",
       "      <td>370</td>\n",
       "      <td>1300000.0</td>\n",
       "    </tr>\n",
       "    <tr>\n",
       "      <th>1</th>\n",
       "      <td>7 CCM Champ</td>\n",
       "      <td>Piston</td>\n",
       "      <td>85</td>\n",
       "      <td>89</td>\n",
       "      <td>83.0</td>\n",
       "      <td>44.0</td>\n",
       "      <td>15</td>\n",
       "      <td>600</td>\n",
       "      <td>720.0</td>\n",
       "      <td>800.0</td>\n",
       "      <td>1,350</td>\n",
       "      <td>820</td>\n",
       "      <td>20/7</td>\n",
       "      <td>36/1</td>\n",
       "      <td>190</td>\n",
       "      <td>1230000.0</td>\n",
       "    </tr>\n",
       "    <tr>\n",
       "      <th>2</th>\n",
       "      <td>100 Darter (S.L. Industries)</td>\n",
       "      <td>Piston</td>\n",
       "      <td>90</td>\n",
       "      <td>90</td>\n",
       "      <td>78.0</td>\n",
       "      <td>37.0</td>\n",
       "      <td>19</td>\n",
       "      <td>650</td>\n",
       "      <td>475.0</td>\n",
       "      <td>850.0</td>\n",
       "      <td>1,300</td>\n",
       "      <td>810</td>\n",
       "      <td>21/5</td>\n",
       "      <td>35/0</td>\n",
       "      <td>210</td>\n",
       "      <td>1600000.0</td>\n",
       "    </tr>\n",
       "    <tr>\n",
       "      <th>3</th>\n",
       "      <td>7 AC Champ</td>\n",
       "      <td>Piston</td>\n",
       "      <td>85</td>\n",
       "      <td>88</td>\n",
       "      <td>78.0</td>\n",
       "      <td>37.0</td>\n",
       "      <td>19</td>\n",
       "      <td>620</td>\n",
       "      <td>500.0</td>\n",
       "      <td>850.0</td>\n",
       "      <td>1,300</td>\n",
       "      <td>800</td>\n",
       "      <td>21/5</td>\n",
       "      <td>35/0</td>\n",
       "      <td>210</td>\n",
       "      <td>1300000.0</td>\n",
       "    </tr>\n",
       "    <tr>\n",
       "      <th>4</th>\n",
       "      <td>100 Darter (S.L. Industries)</td>\n",
       "      <td>Piston</td>\n",
       "      <td>65</td>\n",
       "      <td>83</td>\n",
       "      <td>74.0</td>\n",
       "      <td>33.0</td>\n",
       "      <td>14</td>\n",
       "      <td>370</td>\n",
       "      <td>632.0</td>\n",
       "      <td>885.0</td>\n",
       "      <td>1,220</td>\n",
       "      <td>740</td>\n",
       "      <td>21/5</td>\n",
       "      <td>35/0</td>\n",
       "      <td>175</td>\n",
       "      <td>1250000.0</td>\n",
       "    </tr>\n",
       "  </tbody>\n",
       "</table>\n",
       "</div>"
      ],
      "text/plain": [
       "                     Model Name Engine Type HP or lbs thr ea engine  \\\n",
       "0  100 Darter (S.L. Industries)      Piston                     145   \n",
       "1                   7 CCM Champ      Piston                      85   \n",
       "2  100 Darter (S.L. Industries)      Piston                      90   \n",
       "3                    7 AC Champ      Piston                      85   \n",
       "4  100 Darter (S.L. Industries)      Piston                      65   \n",
       "\n",
       "  Max speed Knots  Rcmnd cruise Knots  Stall Knots dirty  Fuel gal/lbs  \\\n",
       "0             104                91.0               46.0            36   \n",
       "1              89                83.0               44.0            15   \n",
       "2              90                78.0               37.0            19   \n",
       "3              88                78.0               37.0            19   \n",
       "4              83                74.0               33.0            14   \n",
       "\n",
       "  All eng rate of climb  Eng out rate of climb  Takeoff over 50ft  \\\n",
       "0                   450                  900.0             1300.0   \n",
       "1                   600                  720.0              800.0   \n",
       "2                   650                  475.0              850.0   \n",
       "3                   620                  500.0              850.0   \n",
       "4                   370                  632.0              885.0   \n",
       "\n",
       "  Landing over 50ft Empty weight lbs Length ft/in Wing span ft/in Range N.M.  \\\n",
       "0             2,050            1,180         25/3            37/5        370   \n",
       "1             1,350              820         20/7            36/1        190   \n",
       "2             1,300              810         21/5            35/0        210   \n",
       "3             1,300              800         21/5            35/0        210   \n",
       "4             1,220              740         21/5            35/0        175   \n",
       "\n",
       "       Price  \n",
       "0  1300000.0  \n",
       "1  1230000.0  \n",
       "2  1600000.0  \n",
       "3  1300000.0  \n",
       "4  1250000.0  "
      ]
     },
     "execution_count": 10,
     "metadata": {},
     "output_type": "execute_result"
    }
   ],
   "source": [
    "df=pd.read_csv(\"Plane Price.csv\")\n",
    "df.head(5)"
   ]
  },
  {
   "cell_type": "code",
   "execution_count": 11,
   "id": "be9401fb-4ee3-4f77-a2ea-99327bddeb34",
   "metadata": {},
   "outputs": [
    {
     "name": "stdout",
     "output_type": "stream",
     "text": [
      "<class 'pandas.core.frame.DataFrame'>\n",
      "RangeIndex: 517 entries, 0 to 516\n",
      "Data columns (total 16 columns):\n",
      " #   Column                   Non-Null Count  Dtype  \n",
      "---  ------                   --------------  -----  \n",
      " 0   Model Name               517 non-null    object \n",
      " 1   Engine Type              517 non-null    object \n",
      " 2   HP or lbs thr ea engine  517 non-null    object \n",
      " 3   Max speed Knots          497 non-null    object \n",
      " 4   Rcmnd cruise Knots       507 non-null    float64\n",
      " 5   Stall Knots dirty        502 non-null    float64\n",
      " 6   Fuel gal/lbs             517 non-null    int64  \n",
      " 7   All eng rate of climb    513 non-null    object \n",
      " 8   Eng out rate of climb    491 non-null    float64\n",
      " 9   Takeoff over 50ft        492 non-null    float64\n",
      " 10  Landing over 50ft        517 non-null    object \n",
      " 11  Empty weight lbs         516 non-null    object \n",
      " 12  Length ft/in             517 non-null    object \n",
      " 13  Wing span ft/in          517 non-null    object \n",
      " 14  Range N.M.               499 non-null    object \n",
      " 15  Price                    507 non-null    float64\n",
      "dtypes: float64(5), int64(1), object(10)\n",
      "memory usage: 64.8+ KB\n"
     ]
    }
   ],
   "source": [
    "df.info()"
   ]
  },
  {
   "cell_type": "code",
   "execution_count": 12,
   "id": "3210d651-341f-4503-ac61-3fa3ad1bd109",
   "metadata": {},
   "outputs": [],
   "source": [
    "df=df[[\"Rcmnd cruise Knots\",\"Stall Knots dirty\",\"Eng out rate of climb\",\"Takeoff over 50ft\",\"Price\"]]\n",
    "df.head(3)\n",
    "df=df.dropna()"
   ]
  },
  {
   "cell_type": "code",
   "execution_count": 13,
   "id": "654846b2-e2a8-42d7-a1c7-fdbbf1d0d8b4",
   "metadata": {},
   "outputs": [],
   "source": [
    "y=df[\"Price\"]\n",
    "x=df.drop(\"Price\",axis=1)"
   ]
  },
  {
   "cell_type": "code",
   "execution_count": 14,
   "id": "8a5282ca-5b5a-4228-939d-33f4d201806e",
   "metadata": {},
   "outputs": [],
   "source": [
    "# fiyata normalizasyon yapılmaz\n",
    "# aykırı değer azalır\n",
    "# model performansı artar"
   ]
  },
  {
   "cell_type": "code",
   "execution_count": 15,
   "id": "40daac41-8f5f-49fe-8ef6-9b214329c64b",
   "metadata": {},
   "outputs": [],
   "source": [
    "ss=StandardScaler()\n",
    "x2=ss.fit_transform(x)"
   ]
  },
  {
   "cell_type": "code",
   "execution_count": 19,
   "id": "35a8150b-e521-4539-9f2f-2723ab895bad",
   "metadata": {},
   "outputs": [
    {
     "data": {
      "text/html": [
       "<div>\n",
       "<style scoped>\n",
       "    .dataframe tbody tr th:only-of-type {\n",
       "        vertical-align: middle;\n",
       "    }\n",
       "\n",
       "    .dataframe tbody tr th {\n",
       "        vertical-align: top;\n",
       "    }\n",
       "\n",
       "    .dataframe thead th {\n",
       "        text-align: right;\n",
       "    }\n",
       "</style>\n",
       "<table border=\"1\" class=\"dataframe\">\n",
       "  <thead>\n",
       "    <tr style=\"text-align: right;\">\n",
       "      <th></th>\n",
       "      <th>0</th>\n",
       "      <th>1</th>\n",
       "      <th>2</th>\n",
       "      <th>3</th>\n",
       "    </tr>\n",
       "  </thead>\n",
       "  <tbody>\n",
       "    <tr>\n",
       "      <th>0</th>\n",
       "      <td>-1.068639</td>\n",
       "      <td>-0.909101</td>\n",
       "      <td>-1.010356</td>\n",
       "      <td>-0.570019</td>\n",
       "    </tr>\n",
       "    <tr>\n",
       "      <th>1</th>\n",
       "      <td>-1.148840</td>\n",
       "      <td>-1.032013</td>\n",
       "      <td>-1.176676</td>\n",
       "      <td>-1.280965</td>\n",
       "    </tr>\n",
       "    <tr>\n",
       "      <th>2</th>\n",
       "      <td>-1.198965</td>\n",
       "      <td>-1.462203</td>\n",
       "      <td>-1.403055</td>\n",
       "      <td>-1.209871</td>\n",
       "    </tr>\n",
       "  </tbody>\n",
       "</table>\n",
       "</div>"
      ],
      "text/plain": [
       "          0         1         2         3\n",
       "0 -1.068639 -0.909101 -1.010356 -0.570019\n",
       "1 -1.148840 -1.032013 -1.176676 -1.280965\n",
       "2 -1.198965 -1.462203 -1.403055 -1.209871"
      ]
     },
     "execution_count": 19,
     "metadata": {},
     "output_type": "execute_result"
    }
   ],
   "source": [
    "x2=pd.DataFrame(x2)\n",
    "x2.head(3)"
   ]
  },
  {
   "cell_type": "code",
   "execution_count": 20,
   "id": "e72c1afd-61ab-4136-a7a9-e36926dab7d7",
   "metadata": {},
   "outputs": [
    {
     "data": {
      "text/plain": [
       "1.1686558153949016e-16"
      ]
     },
     "execution_count": 20,
     "metadata": {},
     "output_type": "execute_result"
    }
   ],
   "source": [
    "x2[0].mean()\n",
    "#ortalamyı 0 a yakın bulur"
   ]
  },
  {
   "cell_type": "code",
   "execution_count": 21,
   "id": "a4316c14-6d31-4821-b702-270f6b3a31f7",
   "metadata": {},
   "outputs": [
    {
     "data": {
      "text/plain": [
       "1.0010982979696863"
      ]
     },
     "execution_count": 21,
     "metadata": {},
     "output_type": "execute_result"
    }
   ],
   "source": [
    "x2[0].std()\n",
    "#standart sapmayı 1 e yakın bulur"
   ]
  },
  {
   "cell_type": "code",
   "execution_count": 23,
   "id": "87e91de6-262b-4adb-bea3-4f2b2bb437b2",
   "metadata": {},
   "outputs": [
    {
     "data": {
      "text/html": [
       "<div>\n",
       "<style scoped>\n",
       "    .dataframe tbody tr th:only-of-type {\n",
       "        vertical-align: middle;\n",
       "    }\n",
       "\n",
       "    .dataframe tbody tr th {\n",
       "        vertical-align: top;\n",
       "    }\n",
       "\n",
       "    .dataframe thead th {\n",
       "        text-align: right;\n",
       "    }\n",
       "</style>\n",
       "<table border=\"1\" class=\"dataframe\">\n",
       "  <thead>\n",
       "    <tr style=\"text-align: right;\">\n",
       "      <th></th>\n",
       "      <th>0</th>\n",
       "      <th>1</th>\n",
       "      <th>2</th>\n",
       "      <th>3</th>\n",
       "    </tr>\n",
       "  </thead>\n",
       "  <tbody>\n",
       "    <tr>\n",
       "      <th>0</th>\n",
       "      <td>0.051724</td>\n",
       "      <td>0.215909</td>\n",
       "      <td>0.074541</td>\n",
       "      <td>0.183908</td>\n",
       "    </tr>\n",
       "    <tr>\n",
       "      <th>1</th>\n",
       "      <td>0.032020</td>\n",
       "      <td>0.193182</td>\n",
       "      <td>0.044254</td>\n",
       "      <td>0.068966</td>\n",
       "    </tr>\n",
       "    <tr>\n",
       "      <th>2</th>\n",
       "      <td>0.019704</td>\n",
       "      <td>0.113636</td>\n",
       "      <td>0.003029</td>\n",
       "      <td>0.080460</td>\n",
       "    </tr>\n",
       "  </tbody>\n",
       "</table>\n",
       "</div>"
      ],
      "text/plain": [
       "          0         1         2         3\n",
       "0  0.051724  0.215909  0.074541  0.183908\n",
       "1  0.032020  0.193182  0.044254  0.068966\n",
       "2  0.019704  0.113636  0.003029  0.080460"
      ]
     },
     "execution_count": 23,
     "metadata": {},
     "output_type": "execute_result"
    }
   ],
   "source": [
    "# aynısını minMax scaler ile yapıyoruz\n",
    "mm=MinMaxScaler()\n",
    "x3=mm.fit_transform(x)\n",
    "x3=pd.DataFrame(x3)\n",
    "x3.head(3)"
   ]
  },
  {
   "cell_type": "code",
   "execution_count": 24,
   "id": "4ded69f6-da15-4650-b294-8e77e9405a5b",
   "metadata": {},
   "outputs": [
    {
     "data": {
      "text/plain": [
       "1.0"
      ]
     },
     "execution_count": 24,
     "metadata": {},
     "output_type": "execute_result"
    }
   ],
   "source": [
    "x3[0].max()"
   ]
  },
  {
   "cell_type": "code",
   "execution_count": 25,
   "id": "3b340290-3f3b-4014-9e3b-ffe220bf939d",
   "metadata": {},
   "outputs": [
    {
     "data": {
      "text/plain": [
       "0.0"
      ]
     },
     "execution_count": 25,
     "metadata": {},
     "output_type": "execute_result"
    }
   ],
   "source": [
    "x3[0].min()"
   ]
  },
  {
   "cell_type": "code",
   "execution_count": 26,
   "id": "61eb6ad7-992e-4cc2-9cb7-8eb7902514a8",
   "metadata": {},
   "outputs": [
    {
     "data": {
      "text/html": [
       "<div>\n",
       "<style scoped>\n",
       "    .dataframe tbody tr th:only-of-type {\n",
       "        vertical-align: middle;\n",
       "    }\n",
       "\n",
       "    .dataframe tbody tr th {\n",
       "        vertical-align: top;\n",
       "    }\n",
       "\n",
       "    .dataframe thead th {\n",
       "        text-align: right;\n",
       "    }\n",
       "</style>\n",
       "<table border=\"1\" class=\"dataframe\">\n",
       "  <thead>\n",
       "    <tr style=\"text-align: right;\">\n",
       "      <th></th>\n",
       "      <th>0</th>\n",
       "      <th>1</th>\n",
       "      <th>2</th>\n",
       "      <th>3</th>\n",
       "    </tr>\n",
       "  </thead>\n",
       "  <tbody>\n",
       "    <tr>\n",
       "      <th>0</th>\n",
       "      <td>0.517241</td>\n",
       "      <td>2.159091</td>\n",
       "      <td>0.745415</td>\n",
       "      <td>1.839080</td>\n",
       "    </tr>\n",
       "    <tr>\n",
       "      <th>1</th>\n",
       "      <td>0.320197</td>\n",
       "      <td>1.931818</td>\n",
       "      <td>0.442537</td>\n",
       "      <td>0.689655</td>\n",
       "    </tr>\n",
       "    <tr>\n",
       "      <th>2</th>\n",
       "      <td>0.197044</td>\n",
       "      <td>1.136364</td>\n",
       "      <td>0.030288</td>\n",
       "      <td>0.804598</td>\n",
       "    </tr>\n",
       "  </tbody>\n",
       "</table>\n",
       "</div>"
      ],
      "text/plain": [
       "          0         1         2         3\n",
       "0  0.517241  2.159091  0.745415  1.839080\n",
       "1  0.320197  1.931818  0.442537  0.689655\n",
       "2  0.197044  1.136364  0.030288  0.804598"
      ]
     },
     "execution_count": 26,
     "metadata": {},
     "output_type": "execute_result"
    }
   ],
   "source": [
    "#istediğimiz aralığa getirme\n",
    "mm2=MinMaxScaler(feature_range=(0,10))\n",
    "x4=mm2.fit_transform(x)\n",
    "x4=pd.DataFrame(x4)\n",
    "x4.head(3)"
   ]
  },
  {
   "cell_type": "code",
   "execution_count": null,
   "id": "c7d604b0-ef03-4ea6-8906-db5df0295980",
   "metadata": {},
   "outputs": [],
   "source": [
    "x4[0].max8"
   ]
  }
 ],
 "metadata": {
  "kernelspec": {
   "display_name": "Python [conda env:base] *",
   "language": "python",
   "name": "conda-base-py"
  },
  "language_info": {
   "codemirror_mode": {
    "name": "ipython",
    "version": 3
   },
   "file_extension": ".py",
   "mimetype": "text/x-python",
   "name": "python",
   "nbconvert_exporter": "python",
   "pygments_lexer": "ipython3",
   "version": "3.12.7"
  }
 },
 "nbformat": 4,
 "nbformat_minor": 5
}
